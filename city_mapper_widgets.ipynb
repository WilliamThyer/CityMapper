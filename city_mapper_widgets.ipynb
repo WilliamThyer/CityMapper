{
 "cells": [
  {
   "cell_type": "code",
   "execution_count": 6,
   "metadata": {},
   "outputs": [],
   "source": [
    "import CityMapper\n",
    "import ipywidgets as widgets\n",
    "from IPython.display import display, clear_output\n",
    "import matplotlib.pyplot as plt\n",
    "\n",
    "%load_ext autoreload\n",
    "%autoreload 2\n",
    "%matplotlib inline"
   ]
  },
  {
   "cell_type": "markdown",
   "metadata": {},
   "source": [
    "# CityMapper"
   ]
  },
  {
   "cell_type": "code",
   "execution_count": 7,
   "metadata": {},
   "outputs": [],
   "source": [
    "cm = CityMapper.CityMapper()\n",
    "load_output = widgets.Output()\n",
    "draw_output = widgets.Output()\n",
    "\n",
    "def load_map_click(b):\n",
    "\n",
    "    with load_output:\n",
    "        clear_output()\n",
    "        print('Loading map data. May take a few minutes!')\n",
    "    city_limits = convert_map_edge_to_bool()\n",
    "    city_elements = convert_map_elements_to_dict()\n",
    "\n",
    "    cm.load_data_from_city(\n",
    "        city_name = location_widget.value,\n",
    "        city_elements = city_elements,\n",
    "        city_limits= city_limits\n",
    "    )\n",
    "    with load_output:\n",
    "        clear_output()\n",
    "        print('Map data loaded!')\n",
    "\n",
    "location_widget = widgets.Text(\n",
    "    value='Hyde Park, Chicago, IL',\n",
    "    placeholder='Hyde Park, Chicago, IL',\n",
    "    description='Location:',\n",
    "    disabled=False\n",
    ")\n",
    "\n",
    "map_elements_widget = widgets.SelectMultiple(\n",
    "    options=['roads','water','railways','buildings','cycleways','green'],\n",
    "    value=['roads','water','railways'],\n",
    "    rows=6,\n",
    "    description='Elements:',\n",
    "    disabled=False\n",
    ")\n",
    "\n",
    "map_edge_widget = widgets.RadioButtons(\n",
    "    options=['City limits', 'Rectangle'],\n",
    "    value='City limits',\n",
    "    description='Map edge:',\n",
    "    disabled=False\n",
    ")\n",
    "\n",
    "load_map_widget = widgets.Button(\n",
    "    description='Load map data',\n",
    "    disabled=False,\n",
    "    button_style='success',\n",
    "    tooltip='Click to load map data',\n",
    "    icon='download'\n",
    ")\n",
    "load_map_widget.on_click(load_map_click)\n",
    "\n",
    "def convert_map_elements_to_dict():\n",
    "\n",
    "    city_dict = cm.city_dict.copy()\n",
    "    for k in city_dict.keys():\n",
    "        if k not in map_elements_widget.value:\n",
    "            city_dict[k] = False\n",
    "        else:\n",
    "            city_dict[k] = True\n",
    "    \n",
    "    return city_dict\n",
    "\n",
    "def convert_map_edge_to_bool():\n",
    "\n",
    "    if map_edge_widget.value == 'City limits':\n",
    "        return True\n",
    "    else:\n",
    "        return False\n",
    "\n",
    "## Aesthetics ##\n",
    "building_color_picker = widgets.ColorPicker(description='Building',value='gray')\n",
    "water_color_picker = widgets.ColorPicker(description='Water',value='steelblue')\n",
    "green_color_picker = widgets.ColorPicker(description='Green',value='olivedrab')\n",
    "road_color_picker = widgets.ColorPicker(description='Road', value='dimgray')\n",
    "railway_color_picker = widgets.ColorPicker(description='Railway', value='darkgray')\n",
    "cycleway_color_picker = widgets.ColorPicker(description='Cycleway', value='limegreen')\n",
    "\n",
    "building_edge_color_picker = widgets.ColorPicker(description='Building',value='dimgray')\n",
    "water_edge_color_picker = widgets.ColorPicker(description='Water',value='lightsteelblue')\n",
    "green_edge_color_picker = widgets.ColorPicker(description='Green',value='darkolivegreen')\n",
    "road_edge_color_picker = widgets.ColorPicker(description='Road', value='gray')\n",
    "railway_edge_color_picker = widgets.ColorPicker(description='Railway', value='lightgray')\n",
    "cycleway_edge_color_picker = widgets.ColorPicker(description='Cycleway', value='white')\n",
    "\n",
    "building_edge_width_slider = widgets.FloatSlider(value=1,min=0,max=10,step=.25,description='Building')\n",
    "water_edge_width_slider = widgets.FloatSlider(value=3,min=0,max=10,step=.25,description='Water')\n",
    "green_edge_width_slider = widgets.FloatSlider(value=1,min=0,max=10,step=.25,description='Green')\n",
    "road_edge_width_slider = widgets.FloatSlider(value=5,min=0,max=10,step=.25,description='Road')\n",
    "railway_edge_width_slider = widgets.FloatSlider(value=1,min=0,max=10,step=.25,description='Railway')\n",
    "cycleway_edge_width_slider = widgets.FloatSlider(value=1,min=0,max=10,step=.25,description='Cycleway')\n",
    "\n",
    "color_pickers = widgets.VBox([\n",
    "    building_color_picker,water_color_picker,\n",
    "    green_color_picker, road_color_picker,\n",
    "    railway_color_picker,cycleway_color_picker\n",
    "    ]\n",
    ")\n",
    "\n",
    "edge_color_pickers = widgets.VBox([\n",
    "    building_edge_color_picker, water_edge_color_picker,\n",
    "    green_edge_color_picker, road_edge_color_picker,\n",
    "    railway_edge_color_picker, cycleway_edge_color_picker\n",
    "    ]\n",
    ")\n",
    "\n",
    "edge_width_sliders = widgets.VBox([\n",
    "    building_edge_width_slider,water_edge_width_slider,\n",
    "    green_edge_width_slider,road_edge_width_slider,\n",
    "    railway_edge_width_slider,cycleway_edge_width_slider\n",
    "    ]\n",
    ")\n",
    "\n",
    "aesthetics_accordion = widgets.Accordion(children=[color_pickers,edge_color_pickers,edge_width_sliders])\n",
    "aesthetics_accordion.set_title(0,'Colors')\n",
    "aesthetics_accordion.set_title(1,'Edge colors')\n",
    "aesthetics_accordion.set_title(2,'Edge widths')\n",
    "\n",
    "def convert_map_aesthetics_to_dict():\n",
    "\n",
    "    colors_dict = cm.colors_dict.copy()\n",
    "    colors_dict['buildings'] = building_color_picker.value\n",
    "    colors_dict['water'] = water_color_picker.value\n",
    "    colors_dict['green'] = green_color_picker.value\n",
    "    colors_dict['roads'] = road_color_picker.value\n",
    "    colors_dict['railways'] = railway_color_picker.value\n",
    "    colors_dict['cycleways'] = cycleway_color_picker.value\n",
    "\n",
    "    edge_colors_dict = cm.edge_colors_dict.copy()\n",
    "    edge_colors_dict['buildings'] = building_edge_color_picker.value\n",
    "    edge_colors_dict['water'] = water_edge_color_picker.value\n",
    "    edge_colors_dict['green'] = green_edge_color_picker.value\n",
    "    edge_colors_dict['roads'] = road_edge_color_picker.value\n",
    "    edge_colors_dict['railways'] = railway_color_picker.value\n",
    "    edge_colors_dict['cycleways'] = cycleway_edge_color_picker.value\n",
    "\n",
    "    edge_width_dict = cm.edge_width_dict.copy()\n",
    "    edge_width_dict['buildings'] = building_edge_width_slider.value\n",
    "    edge_width_dict['water'] = water_edge_width_slider.value\n",
    "    edge_width_dict['green'] = green_edge_width_slider.value\n",
    "    edge_width_dict['roads'] = road_edge_width_slider.value\n",
    "    edge_width_dict['railways'] = railway_edge_width_slider.value\n",
    "    edge_width_dict['cycleways'] = cycleway_edge_width_slider.value\n",
    "    \n",
    "    return colors_dict, edge_colors_dict, edge_width_dict\n",
    "\n",
    "def plot_map_click(b):\n",
    "\n",
    "    colors_dict, edge_colors_dict, edge_width_dict = convert_map_aesthetics_to_dict()\n",
    "\n",
    "    with draw_output:\n",
    "        clear_output()\n",
    "        print(f'Drawing map of {cm.city_name}')\n",
    "        cm.plot_map(colors=colors_dict,edge_colors=edge_colors_dict,edge_width=edge_width_dict)\n",
    "        plt.show()\n",
    "\n",
    "plot_map_widget = widgets.Button(\n",
    "    description='Plot map',\n",
    "    disabled=False,\n",
    "    button_style='success',\n",
    "    tooltip='Click to plot map data',\n",
    "    icon='map'\n",
    ")\n",
    "plot_map_widget.on_click(plot_map_click)"
   ]
  },
  {
   "cell_type": "markdown",
   "metadata": {},
   "source": [
    "### Map parameters"
   ]
  },
  {
   "cell_type": "code",
   "execution_count": 8,
   "metadata": {},
   "outputs": [
    {
     "data": {
      "application/vnd.jupyter.widget-view+json": {
       "model_id": "de75e6d2058f4c29bdf7598aebd071eb",
       "version_major": 2,
       "version_minor": 0
      },
      "text/plain": [
       "Text(value='Hyde Park, Chicago, IL', description='Location:', placeholder='Hyde Park, Chicago, IL')"
      ]
     },
     "metadata": {},
     "output_type": "display_data"
    },
    {
     "data": {
      "application/vnd.jupyter.widget-view+json": {
       "model_id": "5f531bfafa784b29ad6c4bea6878d443",
       "version_major": 2,
       "version_minor": 0
      },
      "text/plain": [
       "SelectMultiple(description='Elements:', index=(0, 1, 2), options=('roads', 'water', 'railways', 'buildings', '…"
      ]
     },
     "metadata": {},
     "output_type": "display_data"
    },
    {
     "data": {
      "application/vnd.jupyter.widget-view+json": {
       "model_id": "e761807b0b7d4025afd342f04a151d84",
       "version_major": 2,
       "version_minor": 0
      },
      "text/plain": [
       "RadioButtons(description='Map edge:', options=('City limits', 'Rectangle'), value='City limits')"
      ]
     },
     "metadata": {},
     "output_type": "display_data"
    },
    {
     "data": {
      "application/vnd.jupyter.widget-view+json": {
       "model_id": "969e8ed88c604e63853245251686dcc2",
       "version_major": 2,
       "version_minor": 0
      },
      "text/plain": [
       "Button(button_style='success', description='Load map data', icon='download', style=ButtonStyle(), tooltip='Cli…"
      ]
     },
     "metadata": {},
     "output_type": "display_data"
    },
    {
     "data": {
      "application/vnd.jupyter.widget-view+json": {
       "model_id": "fb0b66a32d554227bb10f64cf1596a97",
       "version_major": 2,
       "version_minor": 0
      },
      "text/plain": [
       "Output()"
      ]
     },
     "metadata": {},
     "output_type": "display_data"
    }
   ],
   "source": [
    "display(location_widget,map_elements_widget,map_edge_widget,load_map_widget,load_output)"
   ]
  },
  {
   "cell_type": "markdown",
   "metadata": {},
   "source": [
    "### Map aesthetics"
   ]
  },
  {
   "cell_type": "code",
   "execution_count": 9,
   "metadata": {},
   "outputs": [
    {
     "data": {
      "application/vnd.jupyter.widget-view+json": {
       "model_id": "32026357c1434badb2cfd4fc747d88ae",
       "version_major": 2,
       "version_minor": 0
      },
      "text/plain": [
       "Accordion(children=(VBox(children=(ColorPicker(value='gray', description='Building'), ColorPicker(value='steel…"
      ]
     },
     "metadata": {},
     "output_type": "display_data"
    },
    {
     "data": {
      "application/vnd.jupyter.widget-view+json": {
       "model_id": "cd7f6b4eab494b43b83c8a283af067e9",
       "version_major": 2,
       "version_minor": 0
      },
      "text/plain": [
       "Button(button_style='success', description='Plot map', icon='map', style=ButtonStyle(), tooltip='Click to plot…"
      ]
     },
     "metadata": {},
     "output_type": "display_data"
    },
    {
     "data": {
      "application/vnd.jupyter.widget-view+json": {
       "model_id": "30f420133dfa4a739b812aca03e2f42e",
       "version_major": 2,
       "version_minor": 0
      },
      "text/plain": [
       "Output()"
      ]
     },
     "metadata": {},
     "output_type": "display_data"
    }
   ],
   "source": [
    "display(aesthetics_accordion, plot_map_widget,draw_output)"
   ]
  }
 ],
 "metadata": {
  "interpreter": {
   "hash": "daa64a2779e8a01b46d81ac9317af9d1b591a495f0534f3364c023e23ed664af"
  },
  "kernelspec": {
   "display_name": "Python 3 (ipykernel)",
   "language": "python",
   "name": "python3"
  },
  "language_info": {
   "codemirror_mode": {
    "name": "ipython",
    "version": 3
   },
   "file_extension": ".py",
   "mimetype": "text/x-python",
   "name": "python",
   "nbconvert_exporter": "python",
   "pygments_lexer": "ipython3",
   "version": "3.9.9"
  }
 },
 "nbformat": 4,
 "nbformat_minor": 2
}
