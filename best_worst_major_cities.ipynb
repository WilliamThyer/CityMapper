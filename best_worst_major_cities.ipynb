{
 "cells": [
  {
   "cell_type": "code",
   "execution_count": 1,
   "metadata": {},
   "outputs": [],
   "source": [
    "import CityMapper"
   ]
  },
  {
   "cell_type": "code",
   "execution_count": 2,
   "metadata": {},
   "outputs": [],
   "source": [
    "# top 30 most populous cities in USA\n",
    "top30 = [\n",
    "    'New York City, NY', 'Los Angeles, CA', 'Chicago, IL', 'Houston, TX', \n",
    "    'Phoenix, AZ', 'Philadelphia, PA', 'San Antonio, TX', 'San Diego, CA', \n",
    "    'Dallas, TX', 'San Jose, CA', 'Austin, TX', 'Jacksonville, FL', \n",
    "    'Fort Worth, TX', 'Columbus, OH', 'Charlotte, NC', 'San Francisco, CA', \n",
    "    'Indianapolis, IN', 'Seattle, WA', 'Denver, CO', 'Washington, DC', \n",
    "    'Boston, MA', 'El Paso, TX', 'Nashville, TN', 'Detroit, MI', \n",
    "    'Oklahoma City, OK\\t', 'Portland, OR', 'Las Vegas, NV', 'Memphis, TN', \n",
    "    'Louisville, KY', 'Baltimore, MD'];\n",
    "\n",
    "#  unable to access cycleway info, so remove them\n",
    "remove = ['Indianapolis, IN', 'Denver, CO']\n",
    "top30 = [i for i in top30 if i not in remove]"
   ]
  },
  {
   "cell_type": "code",
   "execution_count": 3,
   "metadata": {},
   "outputs": [
    {
     "ename": "TypeError",
     "evalue": "plot_map() got an unexpected keyword argument 'edgewidth'",
     "output_type": "error",
     "traceback": [
      "\u001b[1;31m---------------------------------------------------------------------------\u001b[0m",
      "\u001b[1;31mTypeError\u001b[0m                                 Traceback (most recent call last)",
      "\u001b[1;32m~\\AppData\\Local\\Temp/ipykernel_6728/351349458.py\u001b[0m in \u001b[0;36m<module>\u001b[1;34m\u001b[0m\n\u001b[0;32m     10\u001b[0m     )\n\u001b[0;32m     11\u001b[0m \u001b[1;33m\u001b[0m\u001b[0m\n\u001b[1;32m---> 12\u001b[1;33m     \u001b[0mfig\u001b[0m \u001b[1;33m=\u001b[0m \u001b[0mcm\u001b[0m\u001b[1;33m.\u001b[0m\u001b[0mplot_map\u001b[0m\u001b[1;33m(\u001b[0m\u001b[0mroad_cycleway_ratio_subtitle\u001b[0m\u001b[1;33m=\u001b[0m\u001b[1;32mTrue\u001b[0m\u001b[1;33m,\u001b[0m\u001b[0medgewidth\u001b[0m\u001b[1;33m=\u001b[0m\u001b[1;33m{\u001b[0m\u001b[1;34m'road'\u001b[0m\u001b[1;33m:\u001b[0m\u001b[1;36m.1\u001b[0m\u001b[1;33m}\u001b[0m\u001b[1;33m)\u001b[0m\u001b[1;33m\u001b[0m\u001b[1;33m\u001b[0m\u001b[0m\n\u001b[0m\u001b[0;32m     13\u001b[0m \u001b[1;33m\u001b[0m\u001b[0m\n\u001b[0;32m     14\u001b[0m     \u001b[0mcm\u001b[0m\u001b[1;33m.\u001b[0m\u001b[0msavefig\u001b[0m\u001b[1;33m(\u001b[0m\u001b[0mfig\u001b[0m\u001b[1;33m)\u001b[0m\u001b[1;33m\u001b[0m\u001b[1;33m\u001b[0m\u001b[0m\n",
      "\u001b[1;31mTypeError\u001b[0m: plot_map() got an unexpected keyword argument 'edgewidth'"
     ]
    }
   ],
   "source": [
    "%%capture\n",
    "\n",
    "road_cycleway_ratios = []\n",
    "for city_name in top30:\n",
    "    \n",
    "    cm = CityMapper.CityMapper()\n",
    "    \n",
    "    cm.load_data_from_city(\n",
    "        city_name = city_name,\n",
    "        city_limits = True,\n",
    "        city_elements = {'green': True}\n",
    "    )\n",
    "\n",
    "    fig = cm.plot_map(road_cycleway_ratio_subtitle=True,edgewidth={'road':.1})\n",
    "\n",
    "    cm.savefig(fig)\n",
    "\n",
    "    road_cycleway_ratios.append(cm.rc_ratio)"
   ]
  }
 ],
 "metadata": {
  "interpreter": {
   "hash": "daa64a2779e8a01b46d81ac9317af9d1b591a495f0534f3364c023e23ed664af"
  },
  "kernelspec": {
   "display_name": "Python 3.9.2 64-bit ('ox': conda)",
   "language": "python",
   "name": "python3"
  },
  "language_info": {
   "codemirror_mode": {
    "name": "ipython",
    "version": 3
   },
   "file_extension": ".py",
   "mimetype": "text/x-python",
   "name": "python",
   "nbconvert_exporter": "python",
   "pygments_lexer": "ipython3",
   "version": "3.9.9"
  },
  "orig_nbformat": 2
 },
 "nbformat": 4,
 "nbformat_minor": 2
}
