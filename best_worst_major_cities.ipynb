{
 "metadata": {
  "language_info": {
   "codemirror_mode": {
    "name": "ipython",
    "version": 3
   },
   "file_extension": ".py",
   "mimetype": "text/x-python",
   "name": "python",
   "nbconvert_exporter": "python",
   "pygments_lexer": "ipython3",
   "version": "3.9.2-final"
  },
  "orig_nbformat": 2,
  "kernelspec": {
   "name": "python392jvsc74a57bd0daa64a2779e8a01b46d81ac9317af9d1b591a495f0534f3364c023e23ed664af",
   "display_name": "Python 3.9.2 64-bit ('ox': conda)"
  }
 },
 "nbformat": 4,
 "nbformat_minor": 2,
 "cells": [
  {
   "cell_type": "code",
   "execution_count": null,
   "metadata": {},
   "outputs": [],
   "source": [
    "import network_functions as nf\n",
    "import osmnx as ox\n",
    "import matplotlib.pyplot as plt\n",
    "import numpy as np\n",
    "%load_ext autoreload\n",
    "%autoreload 2"
   ]
  },
  {
   "cell_type": "code",
   "execution_count": null,
   "metadata": {},
   "outputs": [],
   "source": [
    "top30 = nf.get_top30_list()\n",
    "print(top30)"
   ]
  },
  {
   "cell_type": "code",
   "execution_count": null,
   "metadata": {},
   "outputs": [],
   "source": [
    "%%capture\n",
    "road_cycleway_ratios = np.empty(len(top30),dtype=str)\n",
    "for i,city_name in enumerate(top30):\n",
    "    # calc map data\n",
    "    cycleways,roads,city_area = nf.get_city(city_name)\n",
    "    road_cycleway_ratios[i] = nf.calc_road_cycleway_ratio(cycleways, roads)\n",
    "    \n",
    "    # plotting\n",
    "    fig,ax = nf.plot_cycleways(\n",
    "                            city_name=city_name,\n",
    "                            cycleways=cycleways,\n",
    "                            roads=roads,\n",
    "                            road_cycleway_ratio=road_cycleway_ratios[i],\n",
    "                            city_area=city_area,\n",
    "                            signature=False)\n",
    "\n",
    "    fig.savefig(f'examples/pdf/{city_name}.pdf',dpi=500)\n",
    "    fig.savefig(f'examples/png/{city_name}.png',dpi=500)\n",
    "\n",
    "np.save('road_cycleway_ratios.npy',road_cycleways_ratios)"
   ]
  },
  {
   "cell_type": "code",
   "execution_count": null,
   "metadata": {},
   "outputs": [],
   "source": [
    "import winsound\n",
    "winsound.PlaySound(\"SystemExit\",winsound.SND_ALIAS)"
   ]
  }
 ]
}