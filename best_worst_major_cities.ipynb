{
 "metadata": {
  "language_info": {
   "codemirror_mode": {
    "name": "ipython",
    "version": 3
   },
   "file_extension": ".py",
   "mimetype": "text/x-python",
   "name": "python",
   "nbconvert_exporter": "python",
   "pygments_lexer": "ipython3",
   "version": "3.9.2-final"
  },
  "orig_nbformat": 2,
  "kernelspec": {
   "name": "python392jvsc74a57bd0daa64a2779e8a01b46d81ac9317af9d1b591a495f0534f3364c023e23ed664af",
   "display_name": "Python 3.9.2 64-bit ('ox': conda)"
  }
 },
 "nbformat": 4,
 "nbformat_minor": 2,
 "cells": [
  {
   "cell_type": "code",
   "execution_count": 1,
   "metadata": {},
   "outputs": [],
   "source": [
    "import network_functions as nf\n",
    "import osmnx as ox\n",
    "import matplotlib.pyplot as plt\n",
    "import numpy as np\n",
    "%load_ext autoreload\n",
    "%autoreload 2"
   ]
  },
  {
   "cell_type": "code",
   "execution_count": 2,
   "metadata": {},
   "outputs": [
    {
     "output_type": "stream",
     "name": "stdout",
     "text": [
      "['New York City, NY', 'Los Angeles, CA', 'Chicago, IL', 'Houston, TX', 'Phoenix, AZ', 'Philadelphia, PA', 'San Antonio, TX', 'San Diego, CA', 'Dallas, TX', 'San Jose, CA', 'Austin, TX', 'Jacksonville, FL', 'Fort Worth, TX', 'Columbus, OH', 'Charlotte, NC', 'San Francisco, CA', 'Indianapolis, IN', 'Seattle, WA', 'Denver, CO', 'Washington, DC', 'Boston, MA', 'El Paso, TX', 'Nashville, TN', 'Detroit, MI', 'Oklahoma City, OK\\t', 'Portland, OR', 'Las Vegas, NV', 'Memphis, TN', 'Louisville, KY', 'Baltimore, MD']\n"
     ]
    }
   ],
   "source": [
    "top30 = nf.get_top30_list()\n",
    "print(top30)"
   ]
  },
  {
   "cell_type": "code",
   "execution_count": 19,
   "metadata": {},
   "outputs": [],
   "source": [
    "%%capture\n",
    "cycleway_road_ratios = np.empty(len(top30))\n",
    "for i,city_name in enumerate(top30):\n",
    "    # calc map data\n",
    "    cycleways,roads,city_area = nf.get_city(city_name)\n",
    "    cycleway_road_ratios[i] = nf.calc_cycleway_road_ratio(cycleways, roads)\n",
    "    \n",
    "    # plotting\n",
    "    fig,ax = nf.plot_cycleways(\n",
    "                            city_name=city_name,\n",
    "                            cycleways=cycleways,\n",
    "                            roads=roads,\n",
    "                            cycleway_road_ratio=cycleway_road_ratios[i],\n",
    "                            city_area=city_area,\n",
    "                            signature=True,\n",
    "                            save_figure=True)\n",
    "    # also save pdf\n",
    "    nf.savefig(city_name=city_name,fig=fig,extension='.pdf')\n",
    "\n",
    "np.save('cycleway_road_ratios.npy',cycleway_road_ratios)"
   ]
  }
 ]
}